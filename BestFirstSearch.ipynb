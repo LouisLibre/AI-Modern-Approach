{
 "cells": [
  {
   "cell_type": "markdown",
   "metadata": {},
   "source": [
    "# Best First Search\n",
    "\n",
    "This Python Implementation is closely adheres the Best-First-Search Algorithm described in Section 3.3 of Russell, S. J., & Norvig, P. (2020). Artificial Intelligence: A Modern Approach. Fourth Global Edition. Prentice Hall."
   ]
  },
  {
   "cell_type": "code",
   "execution_count": 1,
   "metadata": {},
   "outputs": [],
   "source": [
    "from queue import PriorityQueue\n"
   ]
  },
  {
   "cell_type": "code",
   "execution_count": 2,
   "metadata": {},
   "outputs": [],
   "source": [
    "class Node:\n",
    "    def __init__(self, state, parent=None, action=None, path_cost=0):\n",
    "        self.state = state\n",
    "        self.parent = parent\n",
    "        self.action = action\n",
    "        self.path_cost = path_cost\n",
    "\n",
    "    def __lt__(self, other):\n",
    "        return self.path_cost < other.path_cost"
   ]
  },
  {
   "cell_type": "code",
   "execution_count": 9,
   "metadata": {},
   "outputs": [],
   "source": [
    "def expand(node, action, problem):\n",
    "    s_prime = problem[\"result\"](node.state, action)\n",
    "    cost = node.path_cost + problem[\"action_cost\"](node.state, action)\n",
    "    return Node(s_prime, node, action, cost)\n",
    "\n",
    "def best_first_search(problem, f):\n",
    "    node = Node(problem[\"initial\"])\n",
    "    node.path_cost = f(node)\n",
    "    frontier = PriorityQueue()\n",
    "    frontier.put((f(node.state),node))\n",
    "    reached = {problem[\"initial\"]: node}\n",
    "\n",
    "    while not frontier.empty():\n",
    "        _, node = frontier.get()\n",
    "        if problem[\"is_goal\"](node.state):\n",
    "            return node\n",
    "        for action in problem[\"actions\"](node.state):\n",
    "            child = expand(node, action, problem)\n",
    "            s = child.state\n",
    "            if s not in reached or child.path_cost < reached[s].path_cost:\n",
    "                reached[s] = child\n",
    "                frontier.put((f(child.state),child))\n",
    "    return None\n"
   ]
  },
  {
   "cell_type": "code",
   "execution_count": 5,
   "metadata": {},
   "outputs": [],
   "source": [
    "def heuristic(city):\n",
    "    h = {\n",
    "        \"Arad\": 366,\n",
    "        \"Bucharest\": 0,\n",
    "        \"Craiova\": 160,\n",
    "        \"Drobeta\": 242,\n",
    "        \"Eforie\": 161,\n",
    "        \"Fagaras\": 176,\n",
    "        \"Giurgiu\": 77,\n",
    "        \"Hirsova\": 151,\n",
    "        \"Iasi\": 226,\n",
    "        \"Lugoj\": 244,\n",
    "        \"Mehadia\": 241,\n",
    "        \"Neamt\": 234,\n",
    "        \"Oradea\": 380,\n",
    "        \"Pitesti\": 100,\n",
    "        \"Rimnicu Vilcea\": 193,\n",
    "        \"Sibiu\": 253,\n",
    "        \"Timisoara\": 329,\n",
    "        \"Urziceni\": 80,\n",
    "        \"Vaslui\": 199,\n",
    "        \"Zerind\": 374\n",
    "    }\n",
    "    return h.get(city, 0)\n"
   ]
  },
  {
   "cell_type": "code",
   "execution_count": 6,
   "metadata": {},
   "outputs": [],
   "source": [
    "romania_map = {\n",
    "    \"Arad\": {\"Zerind\": 75, \"Timisoara\": 118, \"Sibiu\": 140},\n",
    "    \"Bucharest\": {\"Fagaras\": 211, \"Pitesti\": 101, \"Giurgiu\": 90, \"Urziceni\": 85},\n",
    "    \"Craiova\": {\"Drobeta\": 120, \"Rimnicu Vilcea\": 146, \"Pitesti\": 138},\n",
    "    \"Drobeta\": {\"Mehadia\": 75, \"Craiova\": 120},\n",
    "    \"Eforie\": {\"Hirsova\": 86},\n",
    "    \"Fagaras\": {\"Sibiu\": 99, \"Bucharest\": 211},\n",
    "    \"Giurgiu\": {\"Bucharest\": 90},\n",
    "    \"Hirsova\": {\"Eforie\": 86, \"Urziceni\": 98},\n",
    "    \"Iasi\": {\"Neamt\": 87, \"Vaslui\": 92},\n",
    "    \"Lugoj\": {\"Timisoara\": 111, \"Mehadia\": 70},\n",
    "    \"Mehadia\": {\"Lugoj\": 70, \"Drobeta\": 75},\n",
    "    \"Neamt\": {\"Iasi\": 87},\n",
    "    \"Oradea\": {\"Zerind\": 71, \"Sibiu\": 151},\n",
    "    \"Pitesti\": {\"Rimnicu Vilcea\": 97, \"Craiova\": 138, \"Bucharest\": 101},\n",
    "    \"Rimnicu Vilcea\": {\"Sibiu\": 80, \"Pitesti\": 97, \"Craiova\": 146},\n",
    "    \"Sibiu\": {\"Arad\": 140, \"Oradea\": 151, \"Fagaras\": 99, \"Rimnicu Vilcea\": 80},\n",
    "    \"Timisoara\": {\"Arad\": 118, \"Lugoj\": 111},\n",
    "    \"Urziceni\": {\"Bucharest\": 85, \"Hirsova\": 98},\n",
    "    \"Vaslui\": {\"Iasi\": 92, \"Urziceni\": 142},\n",
    "    \"Zerind\": {\"Arad\": 75, \"Oradea\": 71}\n",
    "}"
   ]
  },
  {
   "cell_type": "code",
   "execution_count": 7,
   "metadata": {},
   "outputs": [],
   "source": [
    "\n",
    "def route_finding_problem():\n",
    "    problem = {\n",
    "        \"initial\": \"Arad\",\n",
    "        \"is_goal\": lambda s: s == \"Bucharest\",\n",
    "        \"actions\": lambda s: list(romania_map[s].keys()),\n",
    "        \"result\": lambda s, a: a,\n",
    "        \"action_cost\": lambda s, a: romania_map[s][a]\n",
    "    }\n",
    "    return problem"
   ]
  },
  {
   "cell_type": "code",
   "execution_count": 10,
   "metadata": {},
   "outputs": [
    {
     "name": "stdout",
     "output_type": "stream",
     "text": [
      "Arad -> Sibiu -> Fagaras -> Bucharest\n"
     ]
    }
   ],
   "source": [
    "problem = route_finding_problem()\n",
    "solution = best_first_search(problem, heuristic)\n",
    "if solution:\n",
    "    path = []\n",
    "    while solution:\n",
    "        path.append(solution.state)\n",
    "        solution = solution.parent\n",
    "    path.reverse()\n",
    "    print(\" -> \".join(path))\n",
    "else:\n",
    "    print(\"No solution found!\")\n"
   ]
  },
  {
   "cell_type": "markdown",
   "metadata": {},
   "source": [
    "## Output: Arad -> Sibiu -> Fagaras -> Bucharest\n",
    "\n",
    "## Conclusion\n",
    "\n",
    "If we analyze the paths we have actually have an alternative best solution not returned by this algorithm:\n",
    "\n",
    "A: Arad -> Sibiu -> Fagaras -> Bucharest:\n",
    "    Arad to Sibiu = 140 units\n",
    "    Sibiu to Fagaras = 99 units\n",
    "    Fagaras to Bucharest = 211 units\n",
    "    Total = 450 units\n",
    "\n",
    "B: Arad -> Sibiu -> Rimnicu Vilcea -> Pitesti -> Bucharest:\n",
    "    Arad to Sibiu = 140 units\n",
    "    Sibiu to Rimnicu Vilcea = 80 units\n",
    "    Rimnicu Vilcea to Pitesti = 97 units\n",
    "    Pitesti to Bucharest = 101 units\n",
    "    Total = 418 units\n",
    "\n",
    "As mentioned in 'Artificial Intelligence: A Modern Approach' (Fourth Edition, Global Edition) by Stuart Russell and Peter Norvig, Best-First Search is a heuristic-based search algorithm that might not always yield the optimal path [Russell and Norvig, 2020]."
   ]
  }
 ],
 "metadata": {
  "kernelspec": {
   "display_name": "Python 3",
   "language": "python",
   "name": "python3"
  },
  "language_info": {
   "codemirror_mode": {
    "name": "ipython",
    "version": 3
   },
   "file_extension": ".py",
   "mimetype": "text/x-python",
   "name": "python",
   "nbconvert_exporter": "python",
   "pygments_lexer": "ipython3",
   "version": "3.11.6"
  }
 },
 "nbformat": 4,
 "nbformat_minor": 2
}
